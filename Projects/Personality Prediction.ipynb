{
 "cells": [
  {
   "cell_type": "code",
   "execution_count": 11,
   "metadata": {
    "colab": {
     "base_uri": "https://localhost:8080/"
    },
    "id": "3o4fg9hrhhPY",
    "outputId": "94644495-778c-4dcf-eccc-a2ddc6015c14"
   },
   "outputs": [],
   "source": [
    "#!pip install pyresparser"
   ]
  },
  {
   "cell_type": "code",
   "execution_count": 12,
   "metadata": {
    "id": "vacYqQtsjeak"
   },
   "outputs": [],
   "source": [
    "import matplotlib\n",
    "matplotlib.use('Agg')"
   ]
  },
  {
   "cell_type": "code",
   "execution_count": 13,
   "metadata": {},
   "outputs": [
    {
     "name": "stderr",
     "output_type": "stream",
     "text": [
      "[nltk_data] Error loading stopwords: <urlopen error [SSL:\n",
      "[nltk_data]     CERTIFICATE_VERIFY_FAILED] certificate verify failed:\n",
      "[nltk_data]     self signed certificate in certificate chain\n",
      "[nltk_data]     (_ssl.c:997)>\n"
     ]
    },
    {
     "data": {
      "text/plain": [
       "False"
      ]
     },
     "execution_count": 13,
     "metadata": {},
     "output_type": "execute_result"
    }
   ],
   "source": [
    "import nltk\n",
    "nltk.download('stopwords')"
   ]
  },
  {
   "cell_type": "code",
   "execution_count": 14,
   "metadata": {},
   "outputs": [],
   "source": [
    "#!pip install sklearn"
   ]
  },
  {
   "cell_type": "code",
   "execution_count": 15,
   "metadata": {
    "id": "zPgaqZFnhEYF"
   },
   "outputs": [],
   "source": [
    "import os\n",
    "import pandas as pd\n",
    "from tkinter import *\n",
    "from tkinter import filedialog\n",
    "import tkinter.font as font\n",
    "from pyresparser import ResumeParser\n",
    "from sklearn import linear_model "
   ]
  },
  {
   "cell_type": "code",
   "execution_count": 16,
   "metadata": {
    "id": "DrTRtASnh7AK"
   },
   "outputs": [],
   "source": [
    "class train_model:\n",
    "    \n",
    "    def train(self):\n",
    "        data =pd.read_csv('training.csv')\n",
    "        data\n",
    "        array = data.values\n",
    "\n",
    "        for i in range(len(array)):\n",
    "            if array[i][0]==\"Male\":\n",
    "                array[i][0]=1\n",
    "            else:\n",
    "                array[i][0]=0\n",
    "\n",
    "\n",
    "        df=pd.DataFrame(array)\n",
    "\n",
    "        maindf =df[[0,1,2,3,4,5,6]]\n",
    "        mainarray=maindf.values\n",
    "\n",
    "        temp=df[7]\n",
    "        train_y =temp.values\n",
    "        \n",
    "        self.mul_lr = linear_model.LogisticRegression(multi_class='multinomial', solver='newton-cg',max_iter =1000)\n",
    "        self.mul_lr.fit(mainarray, train_y)\n",
    "\n",
    "    def test(self, test_data):\n",
    "        try:\n",
    "            test_predict=list()\n",
    "            for i in test_data:\n",
    "                test_predict.append(int(i))\n",
    "            y_pred = self.mul_lr.predict([test_predict])\n",
    "            return y_pred\n",
    "        except:\n",
    "            print(\"All Factors For Finding Personality Not Entered!\")\n"
   ]
  },
  {
   "cell_type": "code",
   "execution_count": 17,
   "metadata": {
    "id": "XDjBvTQOiaV0"
   },
   "outputs": [],
   "source": [
    "def check_type(data):\n",
    "    if type(data)==str or type(data)==str:\n",
    "        return str(data).title()\n",
    "    if type(data)==list or type(data)==tuple:\n",
    "        str_list=\"\"\n",
    "        for i,item in enumerate(data):\n",
    "            str_list+=item+\", \"\n",
    "        return str_list\n",
    "    else:   return str(data)\n",
    "\n",
    "def prediction_result(top, aplcnt_name, cv_path, personality_values):\n",
    "    \"after applying a job\"\n",
    "    top.withdraw()\n",
    "    applicant_data={\"Candidate Name\":aplcnt_name.get(),  \"CV Location\":cv_path}\n",
    "    \n",
    "    age = personality_values[1]\n",
    "    \n",
    "    print(\"\\n############# Candidate Entered Data #############\\n\")\n",
    "    print(applicant_data, personality_values)\n",
    "    \n",
    "    personality = model.test(personality_values)\n",
    "    print(\"\\n############# Predicted Personality #############\\n\")\n",
    "    print(personality)\n",
    "    data = ResumeParser(cv_path).get_extracted_data()\n",
    "    \n",
    "    try:\n",
    "        del data['name']\n",
    "        if len(data['mobile_number'])<10:\n",
    "            del data['mobile_number']\n",
    "    except:\n",
    "        pass\n",
    "    \n",
    "    print(\"\\n############# Resume Parsed Data #############\\n\")\n",
    "\n",
    "    for key in data.keys():\n",
    "        if data[key] is not None:\n",
    "            print('{} : {}'.format(key,data[key]))\n",
    "    \n",
    "    result=Tk()\n",
    "  #  result.geometry('700x550')\n",
    "    result.overrideredirect(False)\n",
    "    result.geometry(\"{0}x{1}+0+0\".format(result.winfo_screenwidth(), result.winfo_screenheight()))\n",
    "    result.configure(background='White')\n",
    "    result.title(\"Predicted Personality\")\n",
    "    \n",
    "    #Title\n",
    "    titleFont = font.Font(family='Arial', size=40, weight='bold')\n",
    "    Label(result, text=\"Result - Personality Prediction\", foreground='green', bg='white', font=titleFont, pady=10, anchor=CENTER).pack(fill=BOTH)\n",
    "    \n",
    "    Label(result, text = str('{} : {}'.format(\"Name:\", aplcnt_name.get())).title(), foreground='black', bg='white', anchor='w').pack(fill=BOTH)\n",
    "    Label(result, text = str('{} : {}'.format(\"Age:\", age)), foreground='black', bg='white', anchor='w').pack(fill=BOTH)\n",
    "    for key in data.keys():\n",
    "        if data[key] is not None:\n",
    "            Label(result, text = str('{} : {}'.format(check_type(key.title()),check_type(data[key]))), foreground='black', bg='white', anchor='w', width=60).pack(fill=BOTH)\n",
    "    Label(result, text = str(\"perdicted personality: \"+personality).title(), foreground='black', bg='white', anchor='w').pack(fill=BOTH)\n",
    "    \n",
    "    quitBtn = Button(result, text=\"Exit\", command =lambda:  result.destroy()).pack()\n",
    "    \n",
    "    terms_mean = \"\"\"\n",
    "# Openness:\n",
    "    People who like to learn new things and enjoy new experiences usually score high in openness. Openness includes traits like being insightful and imaginative and having a wide variety of interests.\n",
    "\n",
    "# Conscientiousness:\n",
    "    People that have a high degree of conscientiousness are reliable and prompt. Traits include being organised, methodic, and thorough.\n",
    "\n",
    "# Extraversion:\n",
    "    Extraversion traits include being; energetic, talkative, and assertive (sometime seen as outspoken by Introverts). Extraverts get their energy and drive from others, while introverts are self-driven get their drive from within themselves.\n",
    "\n",
    "# Agreeableness:\n",
    "    As it perhaps sounds, these individuals are warm, friendly, compassionate and cooperative and traits include being kind, affectionate, and sympathetic. In contrast, people with lower levels of agreeableness may be more distant.\n",
    "\n",
    "# Neuroticism:\n",
    "    Neuroticism or Emotional Stability relates to degree of negative emotions. People that score high on neuroticism often experience emotional instability and negative emotions. Characteristics typically include being moody and tense.    \n",
    "\"\"\"\n",
    "    \n",
    "    Label(result, text = terms_mean, foreground='green', bg='white', anchor='w', justify=LEFT).pack(fill=BOTH)\n",
    "\n",
    "    result.mainloop()"
   ]
  },
  {
   "cell_type": "code",
   "execution_count": 18,
   "metadata": {
    "id": "jn-cKWMRizg8"
   },
   "outputs": [],
   "source": [
    "def perdict_person():\n",
    "    \"\"\"Predict Personality\"\"\"\n",
    "    \n",
    "    # Closing The Previous Window\n",
    "    root.withdraw()\n",
    "    \n",
    "    # Creating new window\n",
    "    top = Toplevel()\n",
    "    top.geometry('700x500')\n",
    "    top.configure(background='black')\n",
    "    top.title(\"Apply For A Job\")\n",
    "    \n",
    "    #Title\n",
    "    titleFont = font.Font(family='Trebuchet', size=25, weight='bold')\n",
    "    lab=Label(top, text=\"Personality Prediction\", foreground='yellow', bg='black', font=titleFont, pady=10).pack()\n",
    "\n",
    "    #Job_Form\n",
    "    job_list=('Select Job', '101-Developer at TTC', '102-Chef at Taj', '103-Professor at MIT')\n",
    "    job = StringVar(top)\n",
    "    job.set(job_list[0])\n",
    "\n",
    "    l1=Label(top, text=\"Applicant Name\", foreground='yellow', bg='black').place(x=70, y=130)\n",
    "    l2=Label(top, text=\"Age\", foreground='yellow', bg='black').place(x=70, y=160)\n",
    "    l3=Label(top, text=\"Gender\", foreground='yellow', bg='black').place(x=70, y=190)\n",
    "    l4=Label(top, text=\"Upload Resume\", foreground='yellow', bg='black').place(x=70, y=220)\n",
    "    l5=Label(top, text=\"How much do u enjoy experiencing new things(1-10)\", foreground='yellow', bg='black').place(x=70, y=250)\n",
    "    l6=Label(top, text=\"How Offen You Feel Negative(1-10)\", foreground='yellow', bg='black').place(x=70, y=280)\n",
    "    l7=Label(top, text=\"Wishing to do ones own work thoroughly(1-10)\", foreground='yellow', bg='black').place(x=70, y=310)\n",
    "    l8=Label(top, text=\"How much would you like to work with your peers(1-10)\", foreground='yellow', bg='black').place(x=70, y=340)\n",
    "    l9=Label(top, text=\"How outgoing and socially interactive you are(1-10)\", foreground='yellow', bg='black').place(x=70, y=370)\n",
    "    \n",
    "    sName=Entry(top)\n",
    "    sName.place(x=450, y=130, width=160)\n",
    "    age=Entry(top)\n",
    "    age.place(x=450, y=160, width=160)\n",
    "    gender = IntVar()\n",
    "    R1 = Radiobutton(top, text=\"Male\", variable=gender, value=1, padx=7)\n",
    "    R1.place(x=450, y=190)\n",
    "    R2 = Radiobutton(top, text=\"Female\", variable=gender, value=0, padx=3)\n",
    "    R2.place(x=540, y=190)\n",
    "    cv=Button(top, text=\"Select File\", command=lambda:  OpenFile(cv))\n",
    "    cv.place(x=450, y=220, width=160)\n",
    "    openness=Entry(top)\n",
    "    openness.insert(0,' ')\n",
    "    openness.place(x=450, y=250, width=160)\n",
    "    neuroticism=Entry(top)\n",
    "    neuroticism.insert(0,' ')\n",
    "    neuroticism.place(x=450, y=280, width=160)\n",
    "    conscientiousness=Entry(top)\n",
    "    conscientiousness.insert(0,' ')\n",
    "    conscientiousness.place(x=450, y=310, width=160)\n",
    "    agreeableness=Entry(top)\n",
    "    agreeableness.insert(0,' ')\n",
    "    agreeableness.place(x=450, y=340, width=160)\n",
    "    extraversion=Entry(top)\n",
    "    extraversion.insert(0,' ')\n",
    "    extraversion.place(x=450, y=370, width=160)\n",
    "\n",
    "    submitBtn=Button(top, padx=2, pady=0, text=\"Submit\", bd=0, foreground='black', bg='yellow', font=(12))\n",
    "    submitBtn.config(command=lambda: prediction_result(top,sName,loc,(gender.get(),age.get(),openness.get(),neuroticism.get(),conscientiousness.get(),agreeableness.get(),extraversion.get())))\n",
    "    submitBtn.place(x=400, y=400, width=200)\n",
    "    \n",
    "\n",
    "    top.mainloop()\n",
    "\n",
    "def OpenFile(b4):\n",
    "    global loc;\n",
    "    name = filedialog.askopenfilename(initialdir=\"C:/Users/Batman/Documents/Programming/tkinter/\",\n",
    "                            filetypes =((\"Document\",\"*.docx*\"),(\"PDF\",\"*.pdf*\"),('All files', '*')),\n",
    "                           title = \"Choose a file.\"\n",
    "                           )\n",
    "    try:\n",
    "        filename=os.path.basename(name)\n",
    "        loc=name\n",
    "    except:\n",
    "        filename=name\n",
    "        loc=name\n",
    "    b4.config(text=filename)\n",
    "    return\n"
   ]
  },
  {
   "cell_type": "code",
   "execution_count": 19,
   "metadata": {
    "colab": {
     "base_uri": "https://localhost:8080/"
    },
    "id": "yutUpDzCk5e8",
    "outputId": "2779a2ae-4283-4e4f-c792-22297f216128"
   },
   "outputs": [
    {
     "name": "stderr",
     "output_type": "stream",
     "text": [
      "'apt-get' is not recognized as an internal or external command,\n",
      "operable program or batch file.\n"
     ]
    }
   ],
   "source": [
    "### CREATE VIRTUAL DISPLAY ###\n",
    "!apt-get install -y xvfb # Install X Virtual Frame Buffer\n",
    "import os\n",
    "os.system('Xvfb :1 -screen 0 1600x1200x16  &')    # create virtual display with size 1600x1200 and 16 bit color. Color can be changed to 24 or 8\n",
    "os.environ['DISPLAY']=':1.0'    # tell X clients to use our virtual DISPLAY :1.0."
   ]
  },
  {
   "cell_type": "code",
   "execution_count": 20,
   "metadata": {
    "id": "qnZ6z5W-jGQj",
    "scrolled": true
   },
   "outputs": [
    {
     "name": "stdout",
     "output_type": "stream",
     "text": [
      "\n",
      "############# Candidate Entered Data #############\n",
      "\n",
      "{'Candidate Name': 'sneha', 'CV Location': 'C:/Users/sneha/OneDrive/Desktop/MULTICASTING PROTOCOL AND ITS TYPES.docx'} (0, '20', ' 3', ' 6', ' 9', ' 10', ' 5')\n",
      "\n",
      "############# Predicted Personality #############\n",
      "\n",
      "['serious']\n"
     ]
    },
    {
     "name": "stderr",
     "output_type": "stream",
     "text": [
      "Exception in Tkinter callback\n",
      "Traceback (most recent call last):\n",
      "  File \"c:\\Program Files\\Python310\\lib\\tkinter\\__init__.py\", line 1921, in __call__\n",
      "    return self.func(*args)\n",
      "  File \"C:\\Users\\sneha\\AppData\\Local\\Temp\\ipykernel_10064\\3564047952.py\", line 60, in <lambda>\n",
      "    submitBtn.config(command=lambda: prediction_result(top,sName,loc,(gender.get(),age.get(),openness.get(),neuroticism.get(),conscientiousness.get(),agreeableness.get(),extraversion.get())))\n",
      "  File \"C:\\Users\\sneha\\AppData\\Local\\Temp\\ipykernel_10064\\278035663.py\", line 24, in prediction_result\n",
      "    data = ResumeParser(cv_path).get_extracted_data()\n",
      "  File \"C:\\Users\\sneha\\AppData\\Roaming\\Python\\Python310\\site-packages\\pyresparser\\resume_parser.py\", line 20, in __init__\n",
      "    nlp = spacy.load('en_core_web_sm')\n",
      "  File \"C:\\Users\\sneha\\AppData\\Roaming\\Python\\Python310\\site-packages\\spacy\\__init__.py\", line 54, in load\n",
      "    return util.load_model(\n",
      "  File \"C:\\Users\\sneha\\AppData\\Roaming\\Python\\Python310\\site-packages\\spacy\\util.py\", line 436, in load_model\n",
      "    raise IOError(Errors.E050.format(name=name))\n",
      "OSError: [E050] Can't find model 'en_core_web_sm'. It doesn't seem to be a Python package or a valid path to a data directory.\n"
     ]
    }
   ],
   "source": [
    "if __name__ == \"__main__\":\n",
    "    model = train_model()\n",
    "    model.train()\n",
    "\n",
    "    root = Tk()\n",
    "    root.geometry('700x700')\n",
    "    root.configure(background='yellow')\n",
    "    root.title(\"Personality Prediction System\")\n",
    "    titleFont = font.Font(family='Trebuchet', size=25, weight='bold')\n",
    "    homeBtnFont = font.Font(size=20, weight='bold')\n",
    "    lab=Label(root, text=\"Personality Prediction System\", bg='yellow', font=titleFont, pady=60).pack()\n",
    "    b2=Button(root, padx=4, pady=4, width=30, text=\"Predict Personality\", bg='black', foreground='white', bd=1, font=homeBtnFont, command=perdict_person).place(relx=0.5, rely=0.5, anchor=CENTER)\n",
    "    root.mainloop()"
   ]
  },
  {
   "cell_type": "code",
   "execution_count": null,
   "metadata": {},
   "outputs": [],
   "source": []
  }
 ],
 "metadata": {
  "colab": {
   "collapsed_sections": [],
   "provenance": []
  },
  "kernelspec": {
   "display_name": "Python 3.10.4 64-bit",
   "language": "python",
   "name": "python3"
  },
  "language_info": {
   "codemirror_mode": {
    "name": "ipython",
    "version": 3
   },
   "file_extension": ".py",
   "mimetype": "text/x-python",
   "name": "python",
   "nbconvert_exporter": "python",
   "pygments_lexer": "ipython3",
   "version": "3.10.4"
  },
  "vscode": {
   "interpreter": {
    "hash": "26de051ba29f2982a8de78e945f0abaf191376122a1563185a90213a26c5da77"
   }
  }
 },
 "nbformat": 4,
 "nbformat_minor": 1
}
